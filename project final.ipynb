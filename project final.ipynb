{
 "cells": [
  {
   "cell_type": "markdown",
   "id": "b84fe4e4",
   "metadata": {},
   "source": [
    "# Group Contributions Statement\n",
    "\n",
    "Clara imported the data and Jinyoung cleaned it and prepped it for exploratory analysis. Jinyoung and Allen created the display tables in the exploratory analysis. In the exploratory analysis, Allen created the scatter plots, Jinyoung created the boxplot and the barplot. Jinyoung is in charge of the feature selection and Allen edited the code. Jinyoung and Allen wrote the function for plotting decision regions and debugged it.  For the machine learning models, Allen did the Support Vector Machine model, Jinyoung did the random forest and logistic regression model. They then trained the model by selecting best parameters and plotting decision regions. Allen wrote the majority of the comments throughout the project with the review from Jinyoung and Clara. Clara made sure we have met each component in the description."
   ]
  },
  {
   "cell_type": "markdown",
   "id": "96cb732e",
   "metadata": {},
   "source": [
    "# Data Importing and Cleaning"
   ]
  },
  {
   "cell_type": "code",
   "execution_count": 1,
   "id": "5f849023",
   "metadata": {},
   "outputs": [],
   "source": [
    "# standard imports\n",
    "import numpy as np\n",
    "from matplotlib import pyplot as plt\n",
    "import pandas as pd\n",
    "\n",
    "# load the data \n",
    "url = \"https://philchodrow.github.io/PIC16A/datasets/palmer_penguins.csv\"\n",
    "\n",
    "# read in the data\n",
    "penguins = pd.read_csv(url)"
   ]
  },
  {
   "cell_type": "code",
   "execution_count": 2,
   "id": "754c3206",
   "metadata": {},
   "outputs": [
    {
     "data": {
      "text/html": [
       "<div>\n",
       "<style scoped>\n",
       "    .dataframe tbody tr th:only-of-type {\n",
       "        vertical-align: middle;\n",
       "    }\n",
       "\n",
       "    .dataframe tbody tr th {\n",
       "        vertical-align: top;\n",
       "    }\n",
       "\n",
       "    .dataframe thead th {\n",
       "        text-align: right;\n",
       "    }\n",
       "</style>\n",
       "<table border=\"1\" class=\"dataframe\">\n",
       "  <thead>\n",
       "    <tr style=\"text-align: right;\">\n",
       "      <th></th>\n",
       "      <th>studyName</th>\n",
       "      <th>Sample Number</th>\n",
       "      <th>Species</th>\n",
       "      <th>Region</th>\n",
       "      <th>Island</th>\n",
       "      <th>Stage</th>\n",
       "      <th>Individual ID</th>\n",
       "      <th>Clutch Completion</th>\n",
       "      <th>Date Egg</th>\n",
       "      <th>Culmen Length (mm)</th>\n",
       "      <th>Culmen Depth (mm)</th>\n",
       "      <th>Flipper Length (mm)</th>\n",
       "      <th>Body Mass (g)</th>\n",
       "      <th>Sex</th>\n",
       "      <th>Delta 15 N (o/oo)</th>\n",
       "      <th>Delta 13 C (o/oo)</th>\n",
       "      <th>Comments</th>\n",
       "    </tr>\n",
       "  </thead>\n",
       "  <tbody>\n",
       "    <tr>\n",
       "      <th>0</th>\n",
       "      <td>PAL0708</td>\n",
       "      <td>1</td>\n",
       "      <td>Adelie Penguin (Pygoscelis adeliae)</td>\n",
       "      <td>Anvers</td>\n",
       "      <td>Torgersen</td>\n",
       "      <td>Adult, 1 Egg Stage</td>\n",
       "      <td>N1A1</td>\n",
       "      <td>Yes</td>\n",
       "      <td>11/11/07</td>\n",
       "      <td>39.1</td>\n",
       "      <td>18.7</td>\n",
       "      <td>181.0</td>\n",
       "      <td>3750.0</td>\n",
       "      <td>MALE</td>\n",
       "      <td>NaN</td>\n",
       "      <td>NaN</td>\n",
       "      <td>Not enough blood for isotopes.</td>\n",
       "    </tr>\n",
       "    <tr>\n",
       "      <th>1</th>\n",
       "      <td>PAL0708</td>\n",
       "      <td>2</td>\n",
       "      <td>Adelie Penguin (Pygoscelis adeliae)</td>\n",
       "      <td>Anvers</td>\n",
       "      <td>Torgersen</td>\n",
       "      <td>Adult, 1 Egg Stage</td>\n",
       "      <td>N1A2</td>\n",
       "      <td>Yes</td>\n",
       "      <td>11/11/07</td>\n",
       "      <td>39.5</td>\n",
       "      <td>17.4</td>\n",
       "      <td>186.0</td>\n",
       "      <td>3800.0</td>\n",
       "      <td>FEMALE</td>\n",
       "      <td>8.94956</td>\n",
       "      <td>-24.69454</td>\n",
       "      <td>NaN</td>\n",
       "    </tr>\n",
       "    <tr>\n",
       "      <th>2</th>\n",
       "      <td>PAL0708</td>\n",
       "      <td>3</td>\n",
       "      <td>Adelie Penguin (Pygoscelis adeliae)</td>\n",
       "      <td>Anvers</td>\n",
       "      <td>Torgersen</td>\n",
       "      <td>Adult, 1 Egg Stage</td>\n",
       "      <td>N2A1</td>\n",
       "      <td>Yes</td>\n",
       "      <td>11/16/07</td>\n",
       "      <td>40.3</td>\n",
       "      <td>18.0</td>\n",
       "      <td>195.0</td>\n",
       "      <td>3250.0</td>\n",
       "      <td>FEMALE</td>\n",
       "      <td>8.36821</td>\n",
       "      <td>-25.33302</td>\n",
       "      <td>NaN</td>\n",
       "    </tr>\n",
       "    <tr>\n",
       "      <th>3</th>\n",
       "      <td>PAL0708</td>\n",
       "      <td>4</td>\n",
       "      <td>Adelie Penguin (Pygoscelis adeliae)</td>\n",
       "      <td>Anvers</td>\n",
       "      <td>Torgersen</td>\n",
       "      <td>Adult, 1 Egg Stage</td>\n",
       "      <td>N2A2</td>\n",
       "      <td>Yes</td>\n",
       "      <td>11/16/07</td>\n",
       "      <td>NaN</td>\n",
       "      <td>NaN</td>\n",
       "      <td>NaN</td>\n",
       "      <td>NaN</td>\n",
       "      <td>NaN</td>\n",
       "      <td>NaN</td>\n",
       "      <td>NaN</td>\n",
       "      <td>Adult not sampled.</td>\n",
       "    </tr>\n",
       "    <tr>\n",
       "      <th>4</th>\n",
       "      <td>PAL0708</td>\n",
       "      <td>5</td>\n",
       "      <td>Adelie Penguin (Pygoscelis adeliae)</td>\n",
       "      <td>Anvers</td>\n",
       "      <td>Torgersen</td>\n",
       "      <td>Adult, 1 Egg Stage</td>\n",
       "      <td>N3A1</td>\n",
       "      <td>Yes</td>\n",
       "      <td>11/16/07</td>\n",
       "      <td>36.7</td>\n",
       "      <td>19.3</td>\n",
       "      <td>193.0</td>\n",
       "      <td>3450.0</td>\n",
       "      <td>FEMALE</td>\n",
       "      <td>8.76651</td>\n",
       "      <td>-25.32426</td>\n",
       "      <td>NaN</td>\n",
       "    </tr>\n",
       "  </tbody>\n",
       "</table>\n",
       "</div>"
      ],
      "text/plain": [
       "  studyName  Sample Number                              Species  Region  \\\n",
       "0   PAL0708              1  Adelie Penguin (Pygoscelis adeliae)  Anvers   \n",
       "1   PAL0708              2  Adelie Penguin (Pygoscelis adeliae)  Anvers   \n",
       "2   PAL0708              3  Adelie Penguin (Pygoscelis adeliae)  Anvers   \n",
       "3   PAL0708              4  Adelie Penguin (Pygoscelis adeliae)  Anvers   \n",
       "4   PAL0708              5  Adelie Penguin (Pygoscelis adeliae)  Anvers   \n",
       "\n",
       "      Island               Stage Individual ID Clutch Completion  Date Egg  \\\n",
       "0  Torgersen  Adult, 1 Egg Stage          N1A1               Yes  11/11/07   \n",
       "1  Torgersen  Adult, 1 Egg Stage          N1A2               Yes  11/11/07   \n",
       "2  Torgersen  Adult, 1 Egg Stage          N2A1               Yes  11/16/07   \n",
       "3  Torgersen  Adult, 1 Egg Stage          N2A2               Yes  11/16/07   \n",
       "4  Torgersen  Adult, 1 Egg Stage          N3A1               Yes  11/16/07   \n",
       "\n",
       "   Culmen Length (mm)  Culmen Depth (mm)  Flipper Length (mm)  Body Mass (g)  \\\n",
       "0                39.1               18.7                181.0         3750.0   \n",
       "1                39.5               17.4                186.0         3800.0   \n",
       "2                40.3               18.0                195.0         3250.0   \n",
       "3                 NaN                NaN                  NaN            NaN   \n",
       "4                36.7               19.3                193.0         3450.0   \n",
       "\n",
       "      Sex  Delta 15 N (o/oo)  Delta 13 C (o/oo)  \\\n",
       "0    MALE                NaN                NaN   \n",
       "1  FEMALE            8.94956          -24.69454   \n",
       "2  FEMALE            8.36821          -25.33302   \n",
       "3     NaN                NaN                NaN   \n",
       "4  FEMALE            8.76651          -25.32426   \n",
       "\n",
       "                         Comments  \n",
       "0  Not enough blood for isotopes.  \n",
       "1                             NaN  \n",
       "2                             NaN  \n",
       "3              Adult not sampled.  \n",
       "4                             NaN  "
      ]
     },
     "execution_count": 2,
     "metadata": {},
     "output_type": "execute_result"
    }
   ],
   "source": [
    "penguins.head()"
   ]
  },
  {
   "cell_type": "markdown",
   "id": "8f6863a6",
   "metadata": {},
   "source": [
    "We first examine the data imported. We see there are many columns that record the attributes of each penguin observed, including Species, Island, Sex, etc. Some data were recorded by researchers for recordkeeping but may not be related to our prediction. There are also NaN values, which means we will need to remove them later. "
   ]
  },
  {
   "cell_type": "markdown",
   "id": "21adf5a7-b31d-4b95-816f-c0d06bce9af8",
   "metadata": {},
   "source": [
    "We will shorten the species names for simplicity."
   ]
  },
  {
   "cell_type": "code",
   "execution_count": 3,
   "id": "0fda046e",
   "metadata": {
    "scrolled": true
   },
   "outputs": [
    {
     "data": {
      "text/plain": [
       "0    Adelie Penguin (Pygoscelis adeliae)\n",
       "1    Adelie Penguin (Pygoscelis adeliae)\n",
       "2    Adelie Penguin (Pygoscelis adeliae)\n",
       "3    Adelie Penguin (Pygoscelis adeliae)\n",
       "4    Adelie Penguin (Pygoscelis adeliae)\n",
       "Name: Species, dtype: object"
      ]
     },
     "execution_count": 3,
     "metadata": {},
     "output_type": "execute_result"
    }
   ],
   "source": [
    "# we look at the original species names for reference before shortening\n",
    "penguins[\"Species\"].head() "
   ]
  },
  {
   "cell_type": "code",
   "execution_count": 4,
   "id": "4f64b519",
   "metadata": {},
   "outputs": [
    {
     "data": {
      "text/plain": [
       "0    Adelie\n",
       "1    Adelie\n",
       "2    Adelie\n",
       "3    Adelie\n",
       "4    Adelie\n",
       "Name: Species, dtype: object"
      ]
     },
     "execution_count": 4,
     "metadata": {},
     "output_type": "execute_result"
    }
   ],
   "source": [
    "penguins['Species'] = penguins['Species'].str.split().str.get(0) # shortens species names to first word\n",
    "penguins[\"Species\"].head()"
   ]
  },
  {
   "cell_type": "markdown",
   "id": "8df7eb87",
   "metadata": {},
   "source": [
    "## Data Prep for Exploratory Analysis"
   ]
  },
  {
   "cell_type": "markdown",
   "id": "4a6dfe2c",
   "metadata": {},
   "source": [
    "Intuitively, we think a species can be determined by the penguin's culmen length and depth, as well as its body mass. Although there may be some variations among individual penguins, these values should be reasonably close for penguins in the same species.  \n",
    "\n",
    "We are also wondering if there's a gender-based or island-based differences in the body mass and culmen length and depth. Since all penguins are observed in the Anvers region, we won't use region as a predictor.\n",
    "\n",
    "We create 2 subsets of data, one WITH Island included (subset 1), and one WITHOUT Island included (subset 2)."
   ]
  },
  {
   "cell_type": "code",
   "execution_count": 5,
   "id": "12e0d005",
   "metadata": {},
   "outputs": [
    {
     "data": {
      "text/html": [
       "<div>\n",
       "<style scoped>\n",
       "    .dataframe tbody tr th:only-of-type {\n",
       "        vertical-align: middle;\n",
       "    }\n",
       "\n",
       "    .dataframe tbody tr th {\n",
       "        vertical-align: top;\n",
       "    }\n",
       "\n",
       "    .dataframe thead th {\n",
       "        text-align: right;\n",
       "    }\n",
       "</style>\n",
       "<table border=\"1\" class=\"dataframe\">\n",
       "  <thead>\n",
       "    <tr style=\"text-align: right;\">\n",
       "      <th></th>\n",
       "      <th>Species</th>\n",
       "      <th>Sex</th>\n",
       "      <th>Island</th>\n",
       "      <th>Culmen Length (mm)</th>\n",
       "      <th>Culmen Depth (mm)</th>\n",
       "      <th>Body Mass (g)</th>\n",
       "    </tr>\n",
       "  </thead>\n",
       "  <tbody>\n",
       "    <tr>\n",
       "      <th>0</th>\n",
       "      <td>Adelie</td>\n",
       "      <td>MALE</td>\n",
       "      <td>Torgersen</td>\n",
       "      <td>39.1</td>\n",
       "      <td>18.7</td>\n",
       "      <td>3750.0</td>\n",
       "    </tr>\n",
       "    <tr>\n",
       "      <th>1</th>\n",
       "      <td>Adelie</td>\n",
       "      <td>FEMALE</td>\n",
       "      <td>Torgersen</td>\n",
       "      <td>39.5</td>\n",
       "      <td>17.4</td>\n",
       "      <td>3800.0</td>\n",
       "    </tr>\n",
       "    <tr>\n",
       "      <th>2</th>\n",
       "      <td>Adelie</td>\n",
       "      <td>FEMALE</td>\n",
       "      <td>Torgersen</td>\n",
       "      <td>40.3</td>\n",
       "      <td>18.0</td>\n",
       "      <td>3250.0</td>\n",
       "    </tr>\n",
       "    <tr>\n",
       "      <th>4</th>\n",
       "      <td>Adelie</td>\n",
       "      <td>FEMALE</td>\n",
       "      <td>Torgersen</td>\n",
       "      <td>36.7</td>\n",
       "      <td>19.3</td>\n",
       "      <td>3450.0</td>\n",
       "    </tr>\n",
       "    <tr>\n",
       "      <th>5</th>\n",
       "      <td>Adelie</td>\n",
       "      <td>MALE</td>\n",
       "      <td>Torgersen</td>\n",
       "      <td>39.3</td>\n",
       "      <td>20.6</td>\n",
       "      <td>3650.0</td>\n",
       "    </tr>\n",
       "    <tr>\n",
       "      <th>...</th>\n",
       "      <td>...</td>\n",
       "      <td>...</td>\n",
       "      <td>...</td>\n",
       "      <td>...</td>\n",
       "      <td>...</td>\n",
       "      <td>...</td>\n",
       "    </tr>\n",
       "    <tr>\n",
       "      <th>338</th>\n",
       "      <td>Gentoo</td>\n",
       "      <td>FEMALE</td>\n",
       "      <td>Biscoe</td>\n",
       "      <td>47.2</td>\n",
       "      <td>13.7</td>\n",
       "      <td>4925.0</td>\n",
       "    </tr>\n",
       "    <tr>\n",
       "      <th>340</th>\n",
       "      <td>Gentoo</td>\n",
       "      <td>FEMALE</td>\n",
       "      <td>Biscoe</td>\n",
       "      <td>46.8</td>\n",
       "      <td>14.3</td>\n",
       "      <td>4850.0</td>\n",
       "    </tr>\n",
       "    <tr>\n",
       "      <th>341</th>\n",
       "      <td>Gentoo</td>\n",
       "      <td>MALE</td>\n",
       "      <td>Biscoe</td>\n",
       "      <td>50.4</td>\n",
       "      <td>15.7</td>\n",
       "      <td>5750.0</td>\n",
       "    </tr>\n",
       "    <tr>\n",
       "      <th>342</th>\n",
       "      <td>Gentoo</td>\n",
       "      <td>FEMALE</td>\n",
       "      <td>Biscoe</td>\n",
       "      <td>45.2</td>\n",
       "      <td>14.8</td>\n",
       "      <td>5200.0</td>\n",
       "    </tr>\n",
       "    <tr>\n",
       "      <th>343</th>\n",
       "      <td>Gentoo</td>\n",
       "      <td>MALE</td>\n",
       "      <td>Biscoe</td>\n",
       "      <td>49.9</td>\n",
       "      <td>16.1</td>\n",
       "      <td>5400.0</td>\n",
       "    </tr>\n",
       "  </tbody>\n",
       "</table>\n",
       "<p>333 rows × 6 columns</p>\n",
       "</div>"
      ],
      "text/plain": [
       "    Species     Sex     Island  Culmen Length (mm)  Culmen Depth (mm)  \\\n",
       "0    Adelie    MALE  Torgersen                39.1               18.7   \n",
       "1    Adelie  FEMALE  Torgersen                39.5               17.4   \n",
       "2    Adelie  FEMALE  Torgersen                40.3               18.0   \n",
       "4    Adelie  FEMALE  Torgersen                36.7               19.3   \n",
       "5    Adelie    MALE  Torgersen                39.3               20.6   \n",
       "..      ...     ...        ...                 ...                ...   \n",
       "338  Gentoo  FEMALE     Biscoe                47.2               13.7   \n",
       "340  Gentoo  FEMALE     Biscoe                46.8               14.3   \n",
       "341  Gentoo    MALE     Biscoe                50.4               15.7   \n",
       "342  Gentoo  FEMALE     Biscoe                45.2               14.8   \n",
       "343  Gentoo    MALE     Biscoe                49.9               16.1   \n",
       "\n",
       "     Body Mass (g)  \n",
       "0           3750.0  \n",
       "1           3800.0  \n",
       "2           3250.0  \n",
       "4           3450.0  \n",
       "5           3650.0  \n",
       "..             ...  \n",
       "338         4925.0  \n",
       "340         4850.0  \n",
       "341         5750.0  \n",
       "342         5200.0  \n",
       "343         5400.0  \n",
       "\n",
       "[333 rows x 6 columns]"
      ]
     },
     "execution_count": 5,
     "metadata": {},
     "output_type": "execute_result"
    }
   ],
   "source": [
    "# We select these columns as our first subset to examine if these variables are good predictors\n",
    "# Island is included\n",
    "test = [\"Species\",\"Sex\",\"Island\",\"Culmen Length (mm)\",\"Culmen Depth (mm)\", \"Body Mass (g)\"]\n",
    "subset1 = penguins[test]\n",
    "subset1 = subset1.dropna() # remove NAs\n",
    "subset1 = subset1[subset1['Sex']!='.'] # remove incorrectly recorded data\n",
    "subset1"
   ]
  },
  {
   "cell_type": "code",
   "execution_count": 6,
   "id": "34a59e01",
   "metadata": {},
   "outputs": [
    {
     "data": {
      "text/html": [
       "<div>\n",
       "<style scoped>\n",
       "    .dataframe tbody tr th:only-of-type {\n",
       "        vertical-align: middle;\n",
       "    }\n",
       "\n",
       "    .dataframe tbody tr th {\n",
       "        vertical-align: top;\n",
       "    }\n",
       "\n",
       "    .dataframe thead th {\n",
       "        text-align: right;\n",
       "    }\n",
       "</style>\n",
       "<table border=\"1\" class=\"dataframe\">\n",
       "  <thead>\n",
       "    <tr style=\"text-align: right;\">\n",
       "      <th></th>\n",
       "      <th>Species</th>\n",
       "      <th>Sex</th>\n",
       "      <th>Culmen Length (mm)</th>\n",
       "      <th>Culmen Depth (mm)</th>\n",
       "      <th>Body Mass (g)</th>\n",
       "    </tr>\n",
       "  </thead>\n",
       "  <tbody>\n",
       "    <tr>\n",
       "      <th>0</th>\n",
       "      <td>Adelie</td>\n",
       "      <td>MALE</td>\n",
       "      <td>39.1</td>\n",
       "      <td>18.7</td>\n",
       "      <td>3750.0</td>\n",
       "    </tr>\n",
       "    <tr>\n",
       "      <th>1</th>\n",
       "      <td>Adelie</td>\n",
       "      <td>FEMALE</td>\n",
       "      <td>39.5</td>\n",
       "      <td>17.4</td>\n",
       "      <td>3800.0</td>\n",
       "    </tr>\n",
       "    <tr>\n",
       "      <th>2</th>\n",
       "      <td>Adelie</td>\n",
       "      <td>FEMALE</td>\n",
       "      <td>40.3</td>\n",
       "      <td>18.0</td>\n",
       "      <td>3250.0</td>\n",
       "    </tr>\n",
       "    <tr>\n",
       "      <th>4</th>\n",
       "      <td>Adelie</td>\n",
       "      <td>FEMALE</td>\n",
       "      <td>36.7</td>\n",
       "      <td>19.3</td>\n",
       "      <td>3450.0</td>\n",
       "    </tr>\n",
       "    <tr>\n",
       "      <th>5</th>\n",
       "      <td>Adelie</td>\n",
       "      <td>MALE</td>\n",
       "      <td>39.3</td>\n",
       "      <td>20.6</td>\n",
       "      <td>3650.0</td>\n",
       "    </tr>\n",
       "    <tr>\n",
       "      <th>...</th>\n",
       "      <td>...</td>\n",
       "      <td>...</td>\n",
       "      <td>...</td>\n",
       "      <td>...</td>\n",
       "      <td>...</td>\n",
       "    </tr>\n",
       "    <tr>\n",
       "      <th>338</th>\n",
       "      <td>Gentoo</td>\n",
       "      <td>FEMALE</td>\n",
       "      <td>47.2</td>\n",
       "      <td>13.7</td>\n",
       "      <td>4925.0</td>\n",
       "    </tr>\n",
       "    <tr>\n",
       "      <th>340</th>\n",
       "      <td>Gentoo</td>\n",
       "      <td>FEMALE</td>\n",
       "      <td>46.8</td>\n",
       "      <td>14.3</td>\n",
       "      <td>4850.0</td>\n",
       "    </tr>\n",
       "    <tr>\n",
       "      <th>341</th>\n",
       "      <td>Gentoo</td>\n",
       "      <td>MALE</td>\n",
       "      <td>50.4</td>\n",
       "      <td>15.7</td>\n",
       "      <td>5750.0</td>\n",
       "    </tr>\n",
       "    <tr>\n",
       "      <th>342</th>\n",
       "      <td>Gentoo</td>\n",
       "      <td>FEMALE</td>\n",
       "      <td>45.2</td>\n",
       "      <td>14.8</td>\n",
       "      <td>5200.0</td>\n",
       "    </tr>\n",
       "    <tr>\n",
       "      <th>343</th>\n",
       "      <td>Gentoo</td>\n",
       "      <td>MALE</td>\n",
       "      <td>49.9</td>\n",
       "      <td>16.1</td>\n",
       "      <td>5400.0</td>\n",
       "    </tr>\n",
       "  </tbody>\n",
       "</table>\n",
       "<p>333 rows × 5 columns</p>\n",
       "</div>"
      ],
      "text/plain": [
       "    Species     Sex  Culmen Length (mm)  Culmen Depth (mm)  Body Mass (g)\n",
       "0    Adelie    MALE                39.1               18.7         3750.0\n",
       "1    Adelie  FEMALE                39.5               17.4         3800.0\n",
       "2    Adelie  FEMALE                40.3               18.0         3250.0\n",
       "4    Adelie  FEMALE                36.7               19.3         3450.0\n",
       "5    Adelie    MALE                39.3               20.6         3650.0\n",
       "..      ...     ...                 ...                ...            ...\n",
       "338  Gentoo  FEMALE                47.2               13.7         4925.0\n",
       "340  Gentoo  FEMALE                46.8               14.3         4850.0\n",
       "341  Gentoo    MALE                50.4               15.7         5750.0\n",
       "342  Gentoo  FEMALE                45.2               14.8         5200.0\n",
       "343  Gentoo    MALE                49.9               16.1         5400.0\n",
       "\n",
       "[333 rows x 5 columns]"
      ]
     },
     "execution_count": 6,
     "metadata": {},
     "output_type": "execute_result"
    }
   ],
   "source": [
    "# We select these columns as our second subset to examine if these variables are good predictors\n",
    "# Island is NOT included\n",
    "cols = [\"Species\",\"Sex\",\"Culmen Length (mm)\",\"Culmen Depth (mm)\", \"Body Mass (g)\"]\n",
    "subset2 = penguins[cols]\n",
    "subset2 = subset2.dropna() # remove Nas\n",
    "subset2 = subset2[subset2['Sex']!='.'] # remove incorrectly recorded data\n",
    "subset2"
   ]
  },
  {
   "cell_type": "markdown",
   "id": "25bc2f1b",
   "metadata": {},
   "source": [
    "# Exploratory Analysis"
   ]
  },
  {
   "cell_type": "markdown",
   "id": "95794aa6",
   "metadata": {},
   "source": [
    "## Summary Statistics and Displayed Tables"
   ]
  },
  {
   "cell_type": "code",
   "execution_count": 7,
   "id": "60759615",
   "metadata": {},
   "outputs": [
    {
     "data": {
      "text/html": [
       "<div>\n",
       "<style scoped>\n",
       "    .dataframe tbody tr th:only-of-type {\n",
       "        vertical-align: middle;\n",
       "    }\n",
       "\n",
       "    .dataframe tbody tr th {\n",
       "        vertical-align: top;\n",
       "    }\n",
       "\n",
       "    .dataframe thead tr th {\n",
       "        text-align: left;\n",
       "    }\n",
       "\n",
       "    .dataframe thead tr:last-of-type th {\n",
       "        text-align: right;\n",
       "    }\n",
       "</style>\n",
       "<table border=\"1\" class=\"dataframe\">\n",
       "  <thead>\n",
       "    <tr>\n",
       "      <th></th>\n",
       "      <th></th>\n",
       "      <th></th>\n",
       "      <th colspan=\"2\" halign=\"left\">Culmen Length (mm)</th>\n",
       "      <th colspan=\"2\" halign=\"left\">Culmen Depth (mm)</th>\n",
       "      <th colspan=\"2\" halign=\"left\">Body Mass (g)</th>\n",
       "    </tr>\n",
       "    <tr>\n",
       "      <th></th>\n",
       "      <th></th>\n",
       "      <th></th>\n",
       "      <th>mean</th>\n",
       "      <th>std</th>\n",
       "      <th>mean</th>\n",
       "      <th>std</th>\n",
       "      <th>mean</th>\n",
       "      <th>std</th>\n",
       "    </tr>\n",
       "    <tr>\n",
       "      <th>Species</th>\n",
       "      <th>Sex</th>\n",
       "      <th>Island</th>\n",
       "      <th></th>\n",
       "      <th></th>\n",
       "      <th></th>\n",
       "      <th></th>\n",
       "      <th></th>\n",
       "      <th></th>\n",
       "    </tr>\n",
       "  </thead>\n",
       "  <tbody>\n",
       "    <tr>\n",
       "      <th rowspan=\"6\" valign=\"top\">Adelie</th>\n",
       "      <th rowspan=\"3\" valign=\"top\">FEMALE</th>\n",
       "      <th>Biscoe</th>\n",
       "      <td>37.359091</td>\n",
       "      <td>1.762212</td>\n",
       "      <td>17.704545</td>\n",
       "      <td>1.091298</td>\n",
       "      <td>3369.318182</td>\n",
       "      <td>343.470715</td>\n",
       "    </tr>\n",
       "    <tr>\n",
       "      <th>Dream</th>\n",
       "      <td>36.911111</td>\n",
       "      <td>2.089043</td>\n",
       "      <td>17.618519</td>\n",
       "      <td>0.897448</td>\n",
       "      <td>3344.444444</td>\n",
       "      <td>212.056475</td>\n",
       "    </tr>\n",
       "    <tr>\n",
       "      <th>Torgersen</th>\n",
       "      <td>37.554167</td>\n",
       "      <td>2.207887</td>\n",
       "      <td>17.550000</td>\n",
       "      <td>0.879723</td>\n",
       "      <td>3395.833333</td>\n",
       "      <td>259.144356</td>\n",
       "    </tr>\n",
       "    <tr>\n",
       "      <th rowspan=\"3\" valign=\"top\">MALE</th>\n",
       "      <th>Biscoe</th>\n",
       "      <td>40.590909</td>\n",
       "      <td>2.006634</td>\n",
       "      <td>19.036364</td>\n",
       "      <td>0.879689</td>\n",
       "      <td>4050.000000</td>\n",
       "      <td>355.567956</td>\n",
       "    </tr>\n",
       "    <tr>\n",
       "      <th>Dream</th>\n",
       "      <td>40.071429</td>\n",
       "      <td>1.748196</td>\n",
       "      <td>18.839286</td>\n",
       "      <td>1.033276</td>\n",
       "      <td>4045.535714</td>\n",
       "      <td>330.547636</td>\n",
       "    </tr>\n",
       "    <tr>\n",
       "      <th>Torgersen</th>\n",
       "      <td>40.586957</td>\n",
       "      <td>3.027496</td>\n",
       "      <td>19.391304</td>\n",
       "      <td>1.082469</td>\n",
       "      <td>4034.782609</td>\n",
       "      <td>372.471714</td>\n",
       "    </tr>\n",
       "    <tr>\n",
       "      <th rowspan=\"2\" valign=\"top\">Chinstrap</th>\n",
       "      <th>FEMALE</th>\n",
       "      <th>Dream</th>\n",
       "      <td>46.573529</td>\n",
       "      <td>3.108669</td>\n",
       "      <td>17.588235</td>\n",
       "      <td>0.781128</td>\n",
       "      <td>3527.205882</td>\n",
       "      <td>285.333912</td>\n",
       "    </tr>\n",
       "    <tr>\n",
       "      <th>MALE</th>\n",
       "      <th>Dream</th>\n",
       "      <td>51.094118</td>\n",
       "      <td>1.564558</td>\n",
       "      <td>19.252941</td>\n",
       "      <td>0.761273</td>\n",
       "      <td>3938.970588</td>\n",
       "      <td>362.137550</td>\n",
       "    </tr>\n",
       "    <tr>\n",
       "      <th rowspan=\"2\" valign=\"top\">Gentoo</th>\n",
       "      <th>FEMALE</th>\n",
       "      <th>Biscoe</th>\n",
       "      <td>45.563793</td>\n",
       "      <td>2.051247</td>\n",
       "      <td>14.237931</td>\n",
       "      <td>0.540249</td>\n",
       "      <td>4679.741379</td>\n",
       "      <td>281.578294</td>\n",
       "    </tr>\n",
       "    <tr>\n",
       "      <th>MALE</th>\n",
       "      <th>Biscoe</th>\n",
       "      <td>49.473770</td>\n",
       "      <td>2.720594</td>\n",
       "      <td>15.718033</td>\n",
       "      <td>0.741060</td>\n",
       "      <td>5484.836066</td>\n",
       "      <td>313.158596</td>\n",
       "    </tr>\n",
       "  </tbody>\n",
       "</table>\n",
       "</div>"
      ],
      "text/plain": [
       "                           Culmen Length (mm)           Culmen Depth (mm)  \\\n",
       "                                         mean       std              mean   \n",
       "Species   Sex    Island                                                     \n",
       "Adelie    FEMALE Biscoe             37.359091  1.762212         17.704545   \n",
       "                 Dream              36.911111  2.089043         17.618519   \n",
       "                 Torgersen          37.554167  2.207887         17.550000   \n",
       "          MALE   Biscoe             40.590909  2.006634         19.036364   \n",
       "                 Dream              40.071429  1.748196         18.839286   \n",
       "                 Torgersen          40.586957  3.027496         19.391304   \n",
       "Chinstrap FEMALE Dream              46.573529  3.108669         17.588235   \n",
       "          MALE   Dream              51.094118  1.564558         19.252941   \n",
       "Gentoo    FEMALE Biscoe             45.563793  2.051247         14.237931   \n",
       "          MALE   Biscoe             49.473770  2.720594         15.718033   \n",
       "\n",
       "                                     Body Mass (g)              \n",
       "                                 std          mean         std  \n",
       "Species   Sex    Island                                         \n",
       "Adelie    FEMALE Biscoe     1.091298   3369.318182  343.470715  \n",
       "                 Dream      0.897448   3344.444444  212.056475  \n",
       "                 Torgersen  0.879723   3395.833333  259.144356  \n",
       "          MALE   Biscoe     0.879689   4050.000000  355.567956  \n",
       "                 Dream      1.033276   4045.535714  330.547636  \n",
       "                 Torgersen  1.082469   4034.782609  372.471714  \n",
       "Chinstrap FEMALE Dream      0.781128   3527.205882  285.333912  \n",
       "          MALE   Dream      0.761273   3938.970588  362.137550  \n",
       "Gentoo    FEMALE Biscoe     0.540249   4679.741379  281.578294  \n",
       "          MALE   Biscoe     0.741060   5484.836066  313.158596  "
      ]
     },
     "execution_count": 7,
     "metadata": {},
     "output_type": "execute_result"
    }
   ],
   "source": [
    "# Visualize subset 1\n",
    "subset1.groupby([\"Species\",\"Sex\",\"Island\"])[[\"Culmen Length (mm)\",\n",
    "                                             \"Culmen Depth (mm)\", \n",
    "                                            \"Body Mass (g)\"]].aggregate([np.mean,np.std])"
   ]
  },
  {
   "cell_type": "markdown",
   "id": "23631b26",
   "metadata": {},
   "source": [
    "We will not use island as a predictor in our modeling since not all species appear on all islands. For instance, the Adelie species is found on three islands. However, Dream Island only has Chinstrap, and Biscoe only has Gentoo."
   ]
  },
  {
   "cell_type": "code",
   "execution_count": 8,
   "id": "f2a75597",
   "metadata": {},
   "outputs": [
    {
     "data": {
      "text/html": [
       "<div>\n",
       "<style scoped>\n",
       "    .dataframe tbody tr th:only-of-type {\n",
       "        vertical-align: middle;\n",
       "    }\n",
       "\n",
       "    .dataframe tbody tr th {\n",
       "        vertical-align: top;\n",
       "    }\n",
       "\n",
       "    .dataframe thead tr th {\n",
       "        text-align: left;\n",
       "    }\n",
       "\n",
       "    .dataframe thead tr:last-of-type th {\n",
       "        text-align: right;\n",
       "    }\n",
       "</style>\n",
       "<table border=\"1\" class=\"dataframe\">\n",
       "  <thead>\n",
       "    <tr>\n",
       "      <th></th>\n",
       "      <th></th>\n",
       "      <th colspan=\"2\" halign=\"left\">Culmen Length (mm)</th>\n",
       "      <th colspan=\"2\" halign=\"left\">Culmen Depth (mm)</th>\n",
       "      <th colspan=\"2\" halign=\"left\">Body Mass (g)</th>\n",
       "    </tr>\n",
       "    <tr>\n",
       "      <th></th>\n",
       "      <th></th>\n",
       "      <th>mean</th>\n",
       "      <th>std</th>\n",
       "      <th>mean</th>\n",
       "      <th>std</th>\n",
       "      <th>mean</th>\n",
       "      <th>std</th>\n",
       "    </tr>\n",
       "    <tr>\n",
       "      <th>Species</th>\n",
       "      <th>Sex</th>\n",
       "      <th></th>\n",
       "      <th></th>\n",
       "      <th></th>\n",
       "      <th></th>\n",
       "      <th></th>\n",
       "      <th></th>\n",
       "    </tr>\n",
       "  </thead>\n",
       "  <tbody>\n",
       "    <tr>\n",
       "      <th rowspan=\"2\" valign=\"top\">Adelie</th>\n",
       "      <th>FEMALE</th>\n",
       "      <td>37.257534</td>\n",
       "      <td>2.028883</td>\n",
       "      <td>17.621918</td>\n",
       "      <td>0.942993</td>\n",
       "      <td>3368.835616</td>\n",
       "      <td>269.380102</td>\n",
       "    </tr>\n",
       "    <tr>\n",
       "      <th>MALE</th>\n",
       "      <td>40.390411</td>\n",
       "      <td>2.277131</td>\n",
       "      <td>19.072603</td>\n",
       "      <td>1.018886</td>\n",
       "      <td>4043.493151</td>\n",
       "      <td>346.811553</td>\n",
       "    </tr>\n",
       "    <tr>\n",
       "      <th rowspan=\"2\" valign=\"top\">Chinstrap</th>\n",
       "      <th>FEMALE</th>\n",
       "      <td>46.573529</td>\n",
       "      <td>3.108669</td>\n",
       "      <td>17.588235</td>\n",
       "      <td>0.781128</td>\n",
       "      <td>3527.205882</td>\n",
       "      <td>285.333912</td>\n",
       "    </tr>\n",
       "    <tr>\n",
       "      <th>MALE</th>\n",
       "      <td>51.094118</td>\n",
       "      <td>1.564558</td>\n",
       "      <td>19.252941</td>\n",
       "      <td>0.761273</td>\n",
       "      <td>3938.970588</td>\n",
       "      <td>362.137550</td>\n",
       "    </tr>\n",
       "    <tr>\n",
       "      <th rowspan=\"2\" valign=\"top\">Gentoo</th>\n",
       "      <th>FEMALE</th>\n",
       "      <td>45.563793</td>\n",
       "      <td>2.051247</td>\n",
       "      <td>14.237931</td>\n",
       "      <td>0.540249</td>\n",
       "      <td>4679.741379</td>\n",
       "      <td>281.578294</td>\n",
       "    </tr>\n",
       "    <tr>\n",
       "      <th>MALE</th>\n",
       "      <td>49.473770</td>\n",
       "      <td>2.720594</td>\n",
       "      <td>15.718033</td>\n",
       "      <td>0.741060</td>\n",
       "      <td>5484.836066</td>\n",
       "      <td>313.158596</td>\n",
       "    </tr>\n",
       "  </tbody>\n",
       "</table>\n",
       "</div>"
      ],
      "text/plain": [
       "                 Culmen Length (mm)           Culmen Depth (mm)            \\\n",
       "                               mean       std              mean       std   \n",
       "Species   Sex                                                               \n",
       "Adelie    FEMALE          37.257534  2.028883         17.621918  0.942993   \n",
       "          MALE            40.390411  2.277131         19.072603  1.018886   \n",
       "Chinstrap FEMALE          46.573529  3.108669         17.588235  0.781128   \n",
       "          MALE            51.094118  1.564558         19.252941  0.761273   \n",
       "Gentoo    FEMALE          45.563793  2.051247         14.237931  0.540249   \n",
       "          MALE            49.473770  2.720594         15.718033  0.741060   \n",
       "\n",
       "                 Body Mass (g)              \n",
       "                          mean         std  \n",
       "Species   Sex                               \n",
       "Adelie    FEMALE   3368.835616  269.380102  \n",
       "          MALE     4043.493151  346.811553  \n",
       "Chinstrap FEMALE   3527.205882  285.333912  \n",
       "          MALE     3938.970588  362.137550  \n",
       "Gentoo    FEMALE   4679.741379  281.578294  \n",
       "          MALE     5484.836066  313.158596  "
      ]
     },
     "execution_count": 8,
     "metadata": {},
     "output_type": "execute_result"
    }
   ],
   "source": [
    "# Visualize subset 2 \n",
    "subset2.groupby([\"Species\",\"Sex\"])[[\"Culmen Length (mm)\",\n",
    "                                    \"Culmen Depth (mm)\", \n",
    "                                    \"Body Mass (g)\"]].aggregate([np.mean,np.std])"
   ]
  },
  {
   "cell_type": "markdown",
   "id": "984f16f7",
   "metadata": {},
   "source": [
    "We see that across the three species, the mean Culmen Length & Depth (in mm), and Body Mass (in g) are higher in Male than Female.  The standard deviation in these attributes are also overall higher in Male, but there are some exceptions in the Chinstrap species. \n",
    "\n",
    "We can further observe that the means of these attributes take on different range of values after factoring in standard deviation. There is thus evidence that Culmen Length and Depth and Sex may be good predictors for the penguin species. There are exceptions, as we can see the mean Culmen Length is simiar for Gentoo and Chinstrap, and mean Culmen Depth is similar for Adelie and Chinstrap. However, at least one other species still has a different value, and other attributes (especially body mass) are still very different, so we can expect good results using these predictors."
   ]
  },
  {
   "cell_type": "markdown",
   "id": "7ca608bf",
   "metadata": {},
   "source": [
    "## Figures"
   ]
  },
  {
   "cell_type": "markdown",
   "id": "52c6cf1d",
   "metadata": {},
   "source": [
    "Using figures, we observe if there are any correlations between the variables."
   ]
  },
  {
   "cell_type": "code",
   "execution_count": 9,
   "id": "ff694c60",
   "metadata": {},
   "outputs": [
    {
     "data": {
      "image/png": "[encoded data removed]",
      "text/plain": [
       "<Figure size 1056.12x216 with 3 Axes>"
      ]
     },
     "metadata": {
      "needs_background": "light"
     },
     "output_type": "display_data"
    }
   ],
   "source": [
    "import seaborn as sns\n",
    "\n",
    "# Scatterplots of Culmen Depth vs Culmen Length, one for each species\n",
    "fgrid=sns.relplot(data=subset2,\n",
    "                  x=\"Culmen Depth (mm)\",\n",
    "                  y=\"Culmen Length (mm)\",\n",
    "                  hue=\"Species\",\n",
    "                  alpha=.5,\n",
    "                  col=\"Species\",\n",
    "                  col_wrap=3,\n",
    "                  height=3, \n",
    "                  aspect=1.5)"
   ]
  },
  {
   "cell_type": "markdown",
   "id": "e55ba3c4",
   "metadata": {},
   "source": [
    "We see that there's a positive, roughly linear relationship between Culmen Length and Culmen Depth across the three species. To determine if they form clusters of penguins, we plot them on the same plot. "
   ]
  },
  {
   "cell_type": "code",
   "execution_count": 10,
   "id": "1db1f2d5",
   "metadata": {
    "scrolled": true
   },
   "outputs": [
    {
     "data": {
      "text/plain": [
       "<seaborn.axisgrid.FacetGrid at 0x7f84b82e04f0>"
      ]
     },
     "execution_count": 10,
     "metadata": {},
     "output_type": "execute_result"
    },
    {
     "data": {
      "image/png": "[encoded data removed]",
      "text/plain": [
       "<Figure size 410.75x216 with 1 Axes>"
      ]
     },
     "metadata": {
      "needs_background": "light"
     },
     "output_type": "display_data"
    }
   ],
   "source": [
    "# Scatterplot of Culmen Depth vs Culmen Lenth for all 3 species, on same plot\n",
    "fgrid = sns.relplot(data=subset2,\n",
    "                  x=\"Culmen Depth (mm)\",\n",
    "                  y=\"Culmen Length (mm)\",\n",
    "                  hue=\"Species\",\n",
    "                  size = \"Body Mass (g)\",\n",
    "                  sizes = (10,100), # to accommodate all sizes\n",
    "                  alpha = .5,\n",
    "                  height = 3, \n",
    "                  aspect = 1.5)\n",
    "fgrid"
   ]
  },
  {
   "cell_type": "markdown",
   "id": "5e336870",
   "metadata": {},
   "source": [
    "We see three clusters of Culmen Depth vs Culmen Length formed based on the species of the penguins. In addition, we see that Gentoo penguins have greater body mass than the other two species. These observations suggest that Culmen Length and Depth are likely strong predictors of species and should be used in our modeling. Body mass may also be a good indicator, however it does not distinguish Chinstrap and Adelie in some cases. We need to use systematic feature selection to discover this."
   ]
  },
  {
   "cell_type": "code",
   "execution_count": 11,
   "id": "b0a09aa0",
   "metadata": {},
   "outputs": [
    {
     "data": {
      "text/plain": [
       "<AxesSubplot:xlabel='Species', ylabel='Culmen Depth (mm)'>"
      ]
     },
     "execution_count": 11,
     "metadata": {},
     "output_type": "execute_result"
    },
    {
     "data": {
      "image/png": "[encoded data removed]",
      "text/plain": [
       "<Figure size 720x360 with 1 Axes>"
      ]
     },
     "metadata": {
      "needs_background": "light"
     },
     "output_type": "display_data"
    }
   ],
   "source": [
    "# Box plot to compare Culmen Depth by species\n",
    "f, ax = plt.subplots(figsize=(10,5))\n",
    "sns.boxplot(x=\"Species\",y=\"Culmen Depth (mm)\",hue=\"Sex\", data=subset2)"
   ]
  },
  {
   "cell_type": "markdown",
   "id": "71fb9d7b",
   "metadata": {},
   "source": [
    "As before, we see that Adelie and Chinstrap have similar Culmen Depths, which is greater than the Culmen depth of the Gentoo species. This indicates that Culmen Depth is a good predictor of species, so we will consider using it in our modeling. In addition, male penguins generally have a higher culmen depth, so sex can be a good predictor if paired with culmen depth."
   ]
  },
  {
   "cell_type": "code",
   "execution_count": 12,
   "id": "ca370d8f",
   "metadata": {
    "scrolled": true
   },
   "outputs": [
    {
     "data": {
      "text/plain": [
       "<AxesSubplot:xlabel='Species', ylabel='Culmen Length (mm)'>"
      ]
     },
     "execution_count": 12,
     "metadata": {},
     "output_type": "execute_result"
    },
    {
     "data": {
      "image/png": "[encoded data removed]",
      "text/plain": [
       "<Figure size 720x360 with 1 Axes>"
      ]
     },
     "metadata": {
      "needs_background": "light"
     },
     "output_type": "display_data"
    }
   ],
   "source": [
    "# Bar plot to compare Culmen Length by species \n",
    "fig,ax=plt.subplots(figsize=(10,5))\n",
    "sns.barplot(data=subset2, x=\"Species\",y=\"Culmen Length (mm)\",hue=\"Sex\",ci = None)\n",
    "# ci = None to get rid of error bar"
   ]
  },
  {
   "cell_type": "markdown",
   "id": "1b1e17d1-d77f-40a9-9b64-e9830a2c3c5a",
   "metadata": {},
   "source": [
    "We see that across all three species, males have greater Culmen Lengths than females. This suggests that sex is a strong predictor of species and should thus be considered in modeling. Each species also has different culmen length. Therefore, we can see there's a gender-based gap in both culmen length and culmen depth of the penguins. So we can use culmen length, culmen depth, and sex in our models. To validate this, we proceed to feature selection."
   ]
  },
  {
   "cell_type": "markdown",
   "id": "2496e0af",
   "metadata": {},
   "source": [
    "# Feature Selection"
   ]
  },
  {
   "cell_type": "markdown",
   "id": "6ad87f68",
   "metadata": {},
   "source": [
    "## Data Prep for Modeling"
   ]
  },
  {
   "cell_type": "code",
   "execution_count": 13,
   "id": "658a780c",
   "metadata": {},
   "outputs": [],
   "source": [
    "# Split data into training and test\n",
    "from sklearn.model_selection import train_test_split\n",
    "np.random.seed(1111) # set a seed for consistency\n",
    "train,test=train_test_split(penguins,test_size=.2) # 80-20 split"
   ]
  },
  {
   "cell_type": "code",
   "execution_count": 14,
   "id": "6d517851",
   "metadata": {},
   "outputs": [],
   "source": [
    "# Data cleaning and spliting into X and y\n",
    "\n",
    "from sklearn import preprocessing\n",
    "\n",
    "def prep_penguins_data(data):\n",
    "    \"\"\"\n",
    "    Purpose: Cleans data to remove incorrect or NA entries\n",
    "    and label qualitative features\n",
    "    \n",
    "    Inputs: \n",
    "    ---------\n",
    "    data: input dataframe\n",
    "    \n",
    "    Output:\n",
    "    ---------\n",
    "    Cleaned version of input data, split into training and test data\n",
    "    \"\"\"\n",
    "    # modify a copy of the data to prevent pollution\n",
    "    df=data.copy()\n",
    "    \n",
    "    # Shorten the species name to first word\n",
    "    df['Species'] = df['Species'].str.split().str.get(0) \n",
    "\n",
    "    # Drop the columns we don't need \n",
    "    df=df.drop(['studyName','Sample Number','Region','Stage','Individual ID','Clutch Completion',\n",
    "               'Date Egg','Comments'],axis=1)\n",
    "    \n",
    "    # Remove NaN values\n",
    "    df=df.dropna()\n",
    "    \n",
    "    # Remove the rows that were not recorded in Sex column\n",
    "    df= df[df['Sex']!='.']\n",
    "\n",
    "    # Turn text values into integer labels\n",
    "    le = preprocessing.LabelEncoder()\n",
    "    df['Sex'] = le.fit_transform(df['Sex'])\n",
    "    df['Island'] = le.fit_transform(df['Island'])\n",
    "    df['Species'] = le.fit_transform(df['Species'])\n",
    "    \n",
    "    # Split into X and y\n",
    "    X=df.drop(['Species'],axis=1) # training data\n",
    "    y=df['Species'] # test data\n",
    "    \n",
    "    return(X,y)"
   ]
  },
  {
   "cell_type": "code",
   "execution_count": 15,
   "id": "26f46493",
   "metadata": {},
   "outputs": [],
   "source": [
    "# Clean and split training data\n",
    "X_train, y_train = prep_penguins_data(train)\n",
    "\n",
    "# Clean and split test data\n",
    "X_test,  y_test  = prep_penguins_data(test)"
   ]
  },
  {
   "cell_type": "markdown",
   "id": "f7065e90",
   "metadata": {},
   "source": [
    "## Systematic Feature Selection"
   ]
  },
  {
   "cell_type": "code",
   "execution_count": 16,
   "id": "30f6ce42",
   "metadata": {},
   "outputs": [],
   "source": [
    "from sklearn.linear_model import LogisticRegression\n",
    "from sklearn.model_selection import cross_val_score\n",
    "\n",
    "LR=LogisticRegression(solver='lbfgs', max_iter=1000)\n",
    "\n",
    "def check_column_score(cols):\n",
    "    \"\"\"\n",
    "    Purpose: Trains and evaluates a model via cross validation \n",
    "    on the columns of data selected\n",
    "    \n",
    "    Inputs: \n",
    "    ---------\n",
    "    cols: selected columns in data frame \n",
    "    \n",
    "    Output:\n",
    "    ---------\n",
    "    Cross validation score for the selected columns\n",
    "    The higher the score, the better the result\n",
    "\n",
    "    \"\"\"\n",
    "    print(\"Training with columns\" + str(cols)) # features used in the current iteration\n",
    "    return cross_val_score(LR,X_train[cols],y_train,cv=10).mean() \n",
    "    # we use performance on logistic regression model to select the features that yield the highest\n",
    "    # score, and we use 10-fold cross validation. This function can print score\n",
    "    # of each combination of columns"
   ]
  },
  {
   "cell_type": "code",
   "execution_count": 17,
   "id": "cdedd5e3",
   "metadata": {},
   "outputs": [
    {
     "name": "stdout",
     "output_type": "stream",
     "text": [
      "Training with columns['Island', 'Culmen Length (mm)', 'Culmen Depth (mm)']\n",
      "CV score is 0.973\n",
      "Training with columns['Island', 'Culmen Length (mm)', 'Flipper Length (mm)']\n",
      "CV score is 0.961\n",
      "Training with columns['Island', 'Culmen Length (mm)', 'Body Mass (g)']\n",
      "CV score is 0.973\n",
      "Training with columns['Island', 'Culmen Length (mm)', 'Delta 15 N (o/oo)']\n",
      "CV score is 0.957\n",
      "Training with columns['Island', 'Culmen Length (mm)', 'Delta 13 C (o/oo)']\n",
      "CV score is 0.965\n",
      "Training with columns['Island', 'Culmen Depth (mm)', 'Flipper Length (mm)']\n",
      "CV score is 0.806\n",
      "Training with columns['Island', 'Culmen Depth (mm)', 'Body Mass (g)']\n",
      "CV score is 0.775\n",
      "Training with columns['Island', 'Culmen Depth (mm)', 'Delta 15 N (o/oo)']\n",
      "CV score is 0.798\n",
      "Training with columns['Island', 'Culmen Depth (mm)', 'Delta 13 C (o/oo)']\n",
      "CV score is 0.911\n",
      "Training with columns['Island', 'Flipper Length (mm)', 'Body Mass (g)']\n",
      "CV score is 0.71\n",
      "Training with columns['Island', 'Flipper Length (mm)', 'Delta 15 N (o/oo)']\n",
      "CV score is 0.841\n",
      "Training with columns['Island', 'Flipper Length (mm)', 'Delta 13 C (o/oo)']\n",
      "CV score is 0.942\n",
      "Training with columns['Island', 'Body Mass (g)', 'Delta 15 N (o/oo)']\n",
      "CV score is 0.752\n",
      "Training with columns['Island', 'Body Mass (g)', 'Delta 13 C (o/oo)']\n",
      "CV score is 0.744\n",
      "Training with columns['Island', 'Delta 15 N (o/oo)', 'Delta 13 C (o/oo)']\n",
      "CV score is 0.88\n",
      "Training with columns['Sex', 'Culmen Length (mm)', 'Culmen Depth (mm)']\n",
      "CV score is 0.988\n",
      "Training with columns['Sex', 'Culmen Length (mm)', 'Flipper Length (mm)']\n",
      "CV score is 0.961\n",
      "Training with columns['Sex', 'Culmen Length (mm)', 'Body Mass (g)']\n",
      "CV score is 0.981\n",
      "Training with columns['Sex', 'Culmen Length (mm)', 'Delta 15 N (o/oo)']\n",
      "CV score is 0.961\n",
      "Training with columns['Sex', 'Culmen Length (mm)', 'Delta 13 C (o/oo)']\n",
      "CV score is 0.969\n",
      "Training with columns['Sex', 'Culmen Depth (mm)', 'Flipper Length (mm)']\n",
      "CV score is 0.814\n",
      "Training with columns['Sex', 'Culmen Depth (mm)', 'Body Mass (g)']\n",
      "CV score is 0.775\n",
      "Training with columns['Sex', 'Culmen Depth (mm)', 'Delta 15 N (o/oo)']\n",
      "CV score is 0.802\n",
      "Training with columns['Sex', 'Culmen Depth (mm)', 'Delta 13 C (o/oo)']\n",
      "CV score is 0.942\n",
      "Training with columns['Sex', 'Flipper Length (mm)', 'Body Mass (g)']\n",
      "CV score is 0.721\n",
      "Training with columns['Sex', 'Flipper Length (mm)', 'Delta 15 N (o/oo)']\n",
      "CV score is 0.872\n",
      "Training with columns['Sex', 'Flipper Length (mm)', 'Delta 13 C (o/oo)']\n",
      "CV score is 0.953\n",
      "Training with columns['Sex', 'Body Mass (g)', 'Delta 15 N (o/oo)']\n",
      "CV score is 0.775\n",
      "Training with columns['Sex', 'Body Mass (g)', 'Delta 13 C (o/oo)']\n",
      "CV score is 0.787\n",
      "Training with columns['Sex', 'Delta 15 N (o/oo)', 'Delta 13 C (o/oo)']\n",
      "CV score is 0.852\n"
     ]
    }
   ],
   "source": [
    "# Enumerate all possible combos consisting of 1 qualitative feature and 2 quantitative features\n",
    "combos = [['Island', 'Culmen Length (mm)', 'Culmen Depth (mm)'],\n",
    "          ['Island', 'Culmen Length (mm)', 'Flipper Length (mm)'],\n",
    "          ['Island', 'Culmen Length (mm)', 'Body Mass (g)'],\n",
    "          ['Island', 'Culmen Length (mm)', 'Delta 15 N (o/oo)'],\n",
    "          ['Island', 'Culmen Length (mm)', 'Delta 13 C (o/oo)'],\n",
    "          ['Island', 'Culmen Depth (mm)', 'Flipper Length (mm)'],\n",
    "          ['Island', 'Culmen Depth (mm)', 'Body Mass (g)'],\n",
    "          ['Island', 'Culmen Depth (mm)', 'Delta 15 N (o/oo)'],\n",
    "          ['Island', 'Culmen Depth (mm)','Delta 13 C (o/oo)'],\n",
    "          ['Island', 'Flipper Length (mm)', 'Body Mass (g)'],\n",
    "          ['Island', 'Flipper Length (mm)', 'Delta 15 N (o/oo)'],\n",
    "          ['Island', 'Flipper Length (mm)', 'Delta 13 C (o/oo)'],\n",
    "          ['Island', 'Body Mass (g)', 'Delta 15 N (o/oo)'],\n",
    "          ['Island', 'Body Mass (g)', 'Delta 13 C (o/oo)'],\n",
    "          ['Island', 'Delta 15 N (o/oo)', 'Delta 13 C (o/oo)'],\n",
    "          ['Sex', 'Culmen Length (mm)', 'Culmen Depth (mm)'],\n",
    "          ['Sex', 'Culmen Length (mm)', 'Flipper Length (mm)'],\n",
    "          ['Sex', 'Culmen Length (mm)', 'Body Mass (g)'],\n",
    "          ['Sex', 'Culmen Length (mm)', 'Delta 15 N (o/oo)'],\n",
    "          ['Sex', 'Culmen Length (mm)', 'Delta 13 C (o/oo)'],\n",
    "          ['Sex', 'Culmen Depth (mm)', 'Flipper Length (mm)'],\n",
    "          ['Sex', 'Culmen Depth (mm)', 'Body Mass (g)'],\n",
    "          ['Sex', 'Culmen Depth (mm)', 'Delta 15 N (o/oo)'],\n",
    "          ['Sex', 'Culmen Depth (mm)','Delta 13 C (o/oo)'],\n",
    "          ['Sex', 'Flipper Length (mm)', 'Body Mass (g)'],\n",
    "          ['Sex', 'Flipper Length (mm)', 'Delta 15 N (o/oo)'],\n",
    "          ['Sex', 'Flipper Length (mm)', 'Delta 13 C (o/oo)'] ,\n",
    "          ['Sex', 'Body Mass (g)', 'Delta 15 N (o/oo)'],\n",
    "          ['Sex','Body Mass (g)', 'Delta 13 C (o/oo)'],\n",
    "          ['Sex', 'Delta 15 N (o/oo)', 'Delta 13 C (o/oo)']]\n",
    "\n",
    "# Find 3 best features\n",
    "best_score = 0 # initialize score for update\n",
    "best_combo = []\n",
    "for combo in combos: # iterate through combos and print CV scores \n",
    "    x=check_column_score(combo)\n",
    "    if x > best_score: # update best score if the current combo yields a better score\n",
    "        best_score = x\n",
    "        best_combo = combo # update parameter\n",
    "    print(\"CV score is \"+ str(np.round(x,3))) # print score for clarity"
   ]
  },
  {
   "cell_type": "code",
   "execution_count": 18,
   "id": "cee4c414",
   "metadata": {},
   "outputs": [
    {
     "name": "stdout",
     "output_type": "stream",
     "text": [
      "['Sex', 'Culmen Length (mm)', 'Culmen Depth (mm)'] 0.9883076923076924\n"
     ]
    }
   ],
   "source": [
    "# Print the best combo and its score  \n",
    "print(best_combo, best_score)"
   ]
  },
  {
   "cell_type": "markdown",
   "id": "093dacf9",
   "metadata": {},
   "source": [
    "To see which combination of features is optimal for our models, we checked cross-validation scores for all  column combinations consisting of 1 qualitative feature and 2 quantitative features. This is a systematic way to check how good the prediciton is in case of random noises. Cross-validation scores  help eliminate bias and overfitting.\n",
    "\n",
    "We notice that Body Mass seems to be a confounding variable. Each time body mass is included in the combination of features, the accuracy is generally lower. So we won't use it.\n",
    "\n",
    "After this systematic algorithm for feature selection, we see the optimal combination was Sex, Culmen Length (mm), and Culmen Depth (mm) because it gave us the highest accuracy. This matches what we found in Exploratory Data Analysis."
   ]
  },
  {
   "cell_type": "markdown",
   "id": "7ec950eb",
   "metadata": {},
   "source": [
    "Cross validation is used to select the parameters that yield the highest cross valdiation score, indicating they will be good predicors. They are then used to shorten the training data, fit the model, and compute model accuracy score."
   ]
  },
  {
   "cell_type": "markdown",
   "id": "e42aa249",
   "metadata": {},
   "source": [
    "# Modeling"
   ]
  },
  {
   "cell_type": "code",
   "execution_count": 19,
   "id": "9011d77a",
   "metadata": {},
   "outputs": [
    {
     "data": {
      "text/html": [
       "<div>\n",
       "<style scoped>\n",
       "    .dataframe tbody tr th:only-of-type {\n",
       "        vertical-align: middle;\n",
       "    }\n",
       "\n",
       "    .dataframe tbody tr th {\n",
       "        vertical-align: top;\n",
       "    }\n",
       "\n",
       "    .dataframe thead th {\n",
       "        text-align: right;\n",
       "    }\n",
       "</style>\n",
       "<table border=\"1\" class=\"dataframe\">\n",
       "  <thead>\n",
       "    <tr style=\"text-align: right;\">\n",
       "      <th></th>\n",
       "      <th>Sex</th>\n",
       "      <th>Culmen Length (mm)</th>\n",
       "      <th>Culmen Depth (mm)</th>\n",
       "    </tr>\n",
       "  </thead>\n",
       "  <tbody>\n",
       "    <tr>\n",
       "      <th>193</th>\n",
       "      <td>0</td>\n",
       "      <td>46.2</td>\n",
       "      <td>17.5</td>\n",
       "    </tr>\n",
       "    <tr>\n",
       "      <th>66</th>\n",
       "      <td>0</td>\n",
       "      <td>35.5</td>\n",
       "      <td>16.2</td>\n",
       "    </tr>\n",
       "    <tr>\n",
       "      <th>188</th>\n",
       "      <td>0</td>\n",
       "      <td>47.6</td>\n",
       "      <td>18.3</td>\n",
       "    </tr>\n",
       "    <tr>\n",
       "      <th>138</th>\n",
       "      <td>0</td>\n",
       "      <td>37.0</td>\n",
       "      <td>16.5</td>\n",
       "    </tr>\n",
       "    <tr>\n",
       "      <th>249</th>\n",
       "      <td>1</td>\n",
       "      <td>50.0</td>\n",
       "      <td>15.3</td>\n",
       "    </tr>\n",
       "  </tbody>\n",
       "</table>\n",
       "</div>"
      ],
      "text/plain": [
       "     Sex  Culmen Length (mm)  Culmen Depth (mm)\n",
       "193    0                46.2               17.5\n",
       "66     0                35.5               16.2\n",
       "188    0                47.6               18.3\n",
       "138    0                37.0               16.5\n",
       "249    1                50.0               15.3"
      ]
     },
     "execution_count": 19,
     "metadata": {},
     "output_type": "execute_result"
    }
   ],
   "source": [
    "# Using the three features that yield the highest accuracy, we examine the training and testing predictor data\n",
    "# we shorten the training and testing data for efficiency\n",
    "X_train=X_train[['Sex','Culmen Length (mm)','Culmen Depth (mm)']]\n",
    "X_test=X_test[['Sex','Culmen Length (mm)','Culmen Depth (mm)']]\n",
    "\n",
    "X_train.head()"
   ]
  },
  {
   "cell_type": "code",
   "execution_count": 20,
   "id": "61c45bad",
   "metadata": {},
   "outputs": [
    {
     "data": {
      "text/html": [
       "<div>\n",
       "<style scoped>\n",
       "    .dataframe tbody tr th:only-of-type {\n",
       "        vertical-align: middle;\n",
       "    }\n",
       "\n",
       "    .dataframe tbody tr th {\n",
       "        vertical-align: top;\n",
       "    }\n",
       "\n",
       "    .dataframe thead th {\n",
       "        text-align: right;\n",
       "    }\n",
       "</style>\n",
       "<table border=\"1\" class=\"dataframe\">\n",
       "  <thead>\n",
       "    <tr style=\"text-align: right;\">\n",
       "      <th></th>\n",
       "      <th>Sex</th>\n",
       "      <th>Culmen Length (mm)</th>\n",
       "      <th>Culmen Depth (mm)</th>\n",
       "    </tr>\n",
       "  </thead>\n",
       "  <tbody>\n",
       "    <tr>\n",
       "      <th>115</th>\n",
       "      <td>1</td>\n",
       "      <td>42.7</td>\n",
       "      <td>18.3</td>\n",
       "    </tr>\n",
       "    <tr>\n",
       "      <th>27</th>\n",
       "      <td>0</td>\n",
       "      <td>40.5</td>\n",
       "      <td>17.9</td>\n",
       "    </tr>\n",
       "    <tr>\n",
       "      <th>310</th>\n",
       "      <td>0</td>\n",
       "      <td>47.5</td>\n",
       "      <td>15.0</td>\n",
       "    </tr>\n",
       "    <tr>\n",
       "      <th>284</th>\n",
       "      <td>0</td>\n",
       "      <td>45.8</td>\n",
       "      <td>14.2</td>\n",
       "    </tr>\n",
       "    <tr>\n",
       "      <th>209</th>\n",
       "      <td>1</td>\n",
       "      <td>49.3</td>\n",
       "      <td>19.9</td>\n",
       "    </tr>\n",
       "  </tbody>\n",
       "</table>\n",
       "</div>"
      ],
      "text/plain": [
       "     Sex  Culmen Length (mm)  Culmen Depth (mm)\n",
       "115    1                42.7               18.3\n",
       "27     0                40.5               17.9\n",
       "310    0                47.5               15.0\n",
       "284    0                45.8               14.2\n",
       "209    1                49.3               19.9"
      ]
     },
     "execution_count": 20,
     "metadata": {},
     "output_type": "execute_result"
    }
   ],
   "source": [
    "X_test.head()"
   ]
  },
  {
   "cell_type": "code",
   "execution_count": 21,
   "id": "42e94a1e",
   "metadata": {},
   "outputs": [
    {
     "data": {
      "text/plain": [
       "193    1\n",
       "66     0\n",
       "188    1\n",
       "138    0\n",
       "249    2\n",
       "      ..\n",
       "180    1\n",
       "162    1\n",
       "337    2\n",
       "229    2\n",
       "311    2\n",
       "Name: Species, Length: 258, dtype: int64"
      ]
     },
     "execution_count": 21,
     "metadata": {},
     "output_type": "execute_result"
    }
   ],
   "source": [
    "y_train # label of penguin species"
   ]
  },
  {
   "cell_type": "markdown",
   "id": "a6a436a7",
   "metadata": {},
   "source": [
    "# First Model: Logistic Regression"
   ]
  },
  {
   "cell_type": "markdown",
   "id": "4364adf4",
   "metadata": {},
   "source": [
    "## Cross-Validation"
   ]
  },
  {
   "cell_type": "code",
   "execution_count": 22,
   "id": "b8e534e8",
   "metadata": {
    "scrolled": true
   },
   "outputs": [
    {
     "name": "stdout",
     "output_type": "stream",
     "text": [
      "2\n",
      "0.9844645550527904\n"
     ]
    }
   ],
   "source": [
    "score = np.zeros(10)\n",
    "bestS = 0\n",
    "bestD = 0\n",
    "for i in range(1,11):\n",
    "    LR=LogisticRegression(C=i, solver='lbfgs', max_iter=1000) \n",
    "    # C is regularization strength, the complexity parameter\n",
    "    \n",
    "    # adjust for index since we start i with 1\n",
    "    score[i-1] = cross_val_score(LR,X_train,y_train).mean()\n",
    "    if score[i-1]>bestS: # update score and parameter if better\n",
    "        bestD = i\n",
    "        bestS = score[i-1]\n",
    "        \n",
    "print(bestD) # best complexity parameter\n",
    "print(bestS) # best score with training data"
   ]
  },
  {
   "cell_type": "markdown",
   "id": "1bcac050",
   "metadata": {},
   "source": [
    "After some experimentations (running the cross-validation for 20-100 iterations), we found that the best complexity parameter is 2 and the best score is 0.984 on the training data. Therefore, we can simply run the cross-validation for 10 iterations and still get the same result. This is how we chose to iterate through range(1,11) to shorten runtime. "
   ]
  },
  {
   "cell_type": "markdown",
   "id": "4fbe54b9",
   "metadata": {},
   "source": [
    "## Evaluation on Unseen Data"
   ]
  },
  {
   "cell_type": "markdown",
   "id": "50f4d2bb",
   "metadata": {},
   "source": [
    "* Logistic Regression Score"
   ]
  },
  {
   "cell_type": "code",
   "execution_count": 23,
   "id": "90a89ac3",
   "metadata": {},
   "outputs": [
    {
     "data": {
      "text/plain": [
       "1.0"
      ]
     },
     "execution_count": 23,
     "metadata": {},
     "output_type": "execute_result"
    }
   ],
   "source": [
    "# Fit the best parameter (2) on the training data and score it on the testing data.\n",
    "LR=LogisticRegression(C=2, solver='lbfgs', max_iter=1000)\n",
    "LR.fit(X_train, y_train)\n",
    "LR.score(X_test,y_test)"
   ]
  },
  {
   "cell_type": "markdown",
   "id": "c42b90f3-0da2-4b68-8f8e-1748602d524a",
   "metadata": {},
   "source": [
    "We see that the model performs well on the testing data, and there's no significant overfitting. The perfect 1.0 score shouldn't be too surprising, because the model can already achieve 0.984 on the training data."
   ]
  },
  {
   "cell_type": "markdown",
   "id": "8f3bd7a9",
   "metadata": {},
   "source": [
    "* Confusion Matrix"
   ]
  },
  {
   "cell_type": "code",
   "execution_count": 24,
   "id": "c25e6ad4",
   "metadata": {},
   "outputs": [
    {
     "data": {
      "text/plain": [
       "array([[32,  0,  0],\n",
       "       [ 0, 10,  0],\n",
       "       [ 0,  0, 24]])"
      ]
     },
     "execution_count": 24,
     "metadata": {},
     "output_type": "execute_result"
    }
   ],
   "source": [
    "from sklearn.metrics import confusion_matrix \n",
    "\n",
    "# Create confusion matrix to see where errors were made in model \n",
    "LR.fit(X_train,y_train)\n",
    "y_test_pred=LR.predict(X_test)\n",
    "LRc=confusion_matrix(y_test,y_test_pred) # evaluate confusion matrix on the test set\n",
    "LRc"
   ]
  },
  {
   "cell_type": "code",
   "execution_count": 25,
   "id": "ae264a4f",
   "metadata": {},
   "outputs": [
    {
     "data": {
      "image/png": "[encoded data removed]",
      "text/plain": [
       "<Figure size 432x432 with 2 Axes>"
      ]
     },
     "metadata": {
      "needs_background": "light"
     },
     "output_type": "display_data"
    }
   ],
   "source": [
    "x_axis_labels = ['Adelie', 'Chinstrap', 'Gentoo'] # labels for x-axis\n",
    "y_axis_labels = ['Adelie', 'Chinstrap', 'Gentoo'] # labels for y-axis\n",
    "\n",
    "# make a heat map for confusion matrix\n",
    "plt.figure(figsize=(6,6))\n",
    "sns.heatmap(LRc, annot = True, fmt='d', linewidths=.5,square=True, \n",
    "            xticklabels=x_axis_labels, yticklabels=y_axis_labels)\n",
    "plt.ylabel(\"True\")\n",
    "plt.xlabel(\"Predict\")\n",
    "plt.show()"
   ]
  },
  {
   "cell_type": "markdown",
   "id": "04f23b9c",
   "metadata": {},
   "source": [
    "We observe from the diagonal of matrix that the model is perfectly right. The off diagonals are all 0s and the main diagonal are all positive entries. Our predictions match all the actual penguin species. \n",
    "\n",
    "This makes sense, because as covered in class, logistic regression is good at classification tasks like spam and non-spam emails based on the keywords a email contains. As visualized in data exploration, there are clear clusters of penguin species based on their culmen length, depth, and sex. Therefore, it makes sense that logistic regression succeeds in classifying penguin species."
   ]
  },
  {
   "cell_type": "markdown",
   "id": "872edd1b",
   "metadata": {},
   "source": [
    "## Decision Regions "
   ]
  },
  {
   "cell_type": "code",
   "execution_count": 28,
   "id": "126faa02",
   "metadata": {},
   "outputs": [],
   "source": [
    "import matplotlib.patches as mpatches  #can use mpatches.Patch function for legend\n",
    "from matplotlib.legend_handler import HandlerPatch\n",
    "def plot_regions(c, X, y):\n",
    "    \"\"\"\n",
    "    Purpose: Plots deciiosn region based on model, predictor data and target data \n",
    "    \n",
    "    Inputs: \n",
    "    ---------\n",
    "    c: model we are evaluating (logistic regression, random forest, etc)\n",
    "    X: is the predictor data as an array\n",
    "    y: is the target data as an array \n",
    "    \n",
    "    Output:\n",
    "    ---------\n",
    "    Decision region plot \n",
    "    \"\"\"\n",
    "    \n",
    "    Female = (X['Sex']==0) # we get a true false array of whether \"Sex\" in the training data is female or not\n",
    "    F=X[Female] # we store the female predictor data in F\n",
    "    F=F.drop(['Sex'],axis=1) # we do a scatterplot of depth vs length for each sex, so we don't need the sex column\n",
    "    y0=y[Female] # extract female target data\n",
    "    F0 = F['Culmen Length (mm)'] # we plot culmen depth vs. culmen length\n",
    "    F1 = F['Culmen Depth (mm)']\n",
    "    \n",
    "    # Similar procedure for Male data\n",
    "    Male = (X['Sex']==1)\n",
    "    M=X[Male]\n",
    "    M=M.drop(['Sex'],axis=1)\n",
    "    y1=y[Male]\n",
    "    M0 = M['Culmen Length (mm)']\n",
    "    M1 = M['Culmen Depth (mm)']\n",
    "    c.fit(X,y) # fit the model on all data\n",
    "    X0 = X[\"Culmen Length (mm)\"] # all data of Culmen Length\n",
    "    X1 = X[\"Culmen Depth (mm)\"] # all data of Culmen Depth\n",
    "\n",
    "    # create a grid\n",
    "    # axis includes all values from minimum to maximum of culmen length and depth to line up the\n",
    "    # axis for both gender\n",
    "    grid_x = np.linspace(X0.min(),X0.max(),258) # make a lot of points for a smooth plot\n",
    "    grid_y = np.linspace(X1.min(),X1.max(),258) \n",
    "   \n",
    "    xx, yy = np.meshgrid(grid_x, grid_y) # generate two dimension grids to plot for female\n",
    "    \n",
    "    # repeat above steps for males \n",
    "    grid_a = np.linspace(X0.min(),X0.max(),258)\n",
    "    grid_b = np.linspace(X1.min(),X1.max(),258)\n",
    "    \n",
    "    aa, bb = np.meshgrid(grid_a, grid_b)\n",
    "    \n",
    "    # transform to 1D to apply model for female\n",
    "    XX = xx.ravel() \n",
    "    YY = yy.ravel()\n",
    "\n",
    "    ZZ = np.zeros(XX.shape) # match female data to the right dimension to predict on all three features\n",
    "    # ZZ encodes the gender information, which is 0 for female\n",
    "    \n",
    "    # transform to 1D to apply model for male\n",
    "    AA = aa.ravel()\n",
    "    BB = bb.ravel()\n",
    "    CC = np.ones(AA.shape) # CC encodes the gender information, 1 for male\n",
    "   \n",
    "\n",
    "    \n",
    "\n",
    "    p = c.predict(np.c_[ZZ,XX,YY]) # use the fitted model to predict using the female data\n",
    "\n",
    "    p = p.reshape(xx.shape) # shape back\n",
    "    \n",
    "    # similarly for male data\n",
    "\n",
    "\n",
    "    r = c.predict(np.c_[CC,AA,BB])\n",
    "\n",
    "    r = r.reshape(aa.shape)\n",
    "    \n",
    "    # create the plot\n",
    "    fig, ax = plt.subplots(1,2,figsize=(12,5))\n",
    "    \n",
    "    # plot female data and add labels\n",
    "    ax[0].scatter(F0, F1, c = y0, cmap = \"jet\") # scatter plot of culmen depth vs length, color code by species\n",
    "    ax[0].set(xlabel = \"Culmen Length (mm)\", \n",
    "            ylabel = \"Culmen Depth (mm)\",\n",
    "             title= \"Female\")\n",
    "    # plot male data\n",
    "    ax[1].scatter(M0, M1, c = y1, cmap = \"jet\")\n",
    "    ax[1].set(xlabel = \"Culmen Length (mm)\", \n",
    "          ylabel = \"Culmen Depth (mm)\",\n",
    "             title = \"Male\")\n",
    "    # use contour plot to visualize the decision regions\n",
    "    ax[0].contourf(xx, yy, p, cmap = \"jet\", alpha = 0.2)\n",
    "    ax[1].contourf(aa, bb, r, cmap = \"jet\", alpha = 0.2)\n",
    "    # add legend\n",
    "    red_patch = mpatches.Patch(color='red', label='Gentoo')\n",
    "    blue_patch = mpatches.Patch(color='blue', label='Adelie')\n",
    "    green_patch = mpatches.Patch(color='green', label='Chinstrap')\n",
    "    plt.legend(handles=[red_patch,blue_patch,green_patch])\n",
    "   "
   ]
  },
  {
   "cell_type": "code",
   "execution_count": 29,
   "id": "e77e0908",
   "metadata": {
    "scrolled": true
   },
   "outputs": [
    {
     "data": {
      "image/png": "[encoded data removed]",
      "text/plain": [
       "<Figure size 864x360 with 2 Axes>"
      ]
     },
     "metadata": {
      "needs_background": "light"
     },
     "output_type": "display_data"
    }
   ],
   "source": [
    "plot_regions(LR, X_train, y_train) "
   ]
  },
  {
   "cell_type": "markdown",
   "id": "06204994-114f-45da-8202-63df707546df",
   "metadata": {},
   "source": [
    "Mistakes Made By Model:  The model is perfectly correct on the testing data, which is shown by the confusion matrix having diagonal non-zero values, and all other values being 0. We will then talk about weaknesses. From the decision region, we can see there are data points that lie on the border of the species. A male chinstrap penguin almost falls in the region of Gentoo, and another is on the crossing of the three border lines. A female Chinstrap also nearly falls into Adeleie. This shows that the model may struggle when classifying some of the penguins from two species but have similar culmen length and depth."
   ]
  },
  {
   "cell_type": "markdown",
   "id": "bf349348",
   "metadata": {},
   "source": [
    "# Second Model: Random Forest Classifier"
   ]
  },
  {
   "cell_type": "markdown",
   "id": "6df82b60",
   "metadata": {},
   "source": [
    "## Cross-validation"
   ]
  },
  {
   "cell_type": "code",
   "execution_count": 30,
   "id": "021906be",
   "metadata": {},
   "outputs": [
    {
     "name": "stdout",
     "output_type": "stream",
     "text": [
      "15\n",
      "0.9883996212121212\n"
     ]
    }
   ],
   "source": [
    "from sklearn.ensemble import RandomForestClassifier\n",
    "score = np.zeros(50) # do 50 iterations to find the best number of decision trees for random forest\n",
    "bestS = 0\n",
    "bestD = 0\n",
    "# iteratively update to find the best score and parameter\n",
    "for i in range(1,51):\n",
    "    # the complexity parameter is n_estimators (number of decision trees)\n",
    "    RF = RandomForestClassifier(n_estimators = i) \n",
    "    score[i-1] = cross_val_score(RF,X_train,y_train,cv = 8).mean() # take the mean of the validation scores\n",
    "    if score[i-1]>bestS: # update score if it is better than the current best\n",
    "        bestD = i # update best complexity parameter\n",
    "        bestS = score[i-1]\n",
    "        \n",
    "print(bestD)\n",
    "print(bestS) "
   ]
  },
  {
   "cell_type": "markdown",
   "id": "19f4897b-d6e0-4b3b-afcb-8292463beb86",
   "metadata": {},
   "source": [
    "Due to randomness, we may see different complexity yielding slightly different scores every time we run this code. This is okay because our algorithm updates the score and parameter once a parameter results in a slightly better score. Overall, the scores are still within a similar range.\n",
    "\n",
    "If the score is about the same for all parameters, just choose one of them. We can almost always find local min that are global min or not so far from global min."
   ]
  },
  {
   "cell_type": "markdown",
   "id": "582442a7",
   "metadata": {},
   "source": [
    "We see that a complexity parameter of 15 (15 decision trees) produces the best training score at 98.84% accuracy. "
   ]
  },
  {
   "cell_type": "markdown",
   "id": "91184da2",
   "metadata": {},
   "source": [
    "## Evaluation on Unseen Data"
   ]
  },
  {
   "cell_type": "markdown",
   "id": "019f95be",
   "metadata": {},
   "source": [
    "* Random Forest Classifier Score"
   ]
  },
  {
   "cell_type": "code",
   "execution_count": 31,
   "id": "78edd8e2",
   "metadata": {},
   "outputs": [
    {
     "data": {
      "text/plain": [
       "0.9848484848484849"
      ]
     },
     "execution_count": 31,
     "metadata": {},
     "output_type": "execute_result"
    }
   ],
   "source": [
    "RF = RandomForestClassifier(n_estimators =15)\n",
    "RF.fit(X_train, y_train)\n",
    "RF.score(X_test, y_test) # test score, different from accuracy score above"
   ]
  },
  {
   "cell_type": "markdown",
   "id": "4bbfdbfe-a991-43c2-9e01-66b98d6d6c5f",
   "metadata": {},
   "source": [
    "We see that the model performs well on the testing data, and there's no significant overfitting. When scoring on the testing data, the model reaches 98.48% accuracy, which is only slightly lower than the training score."
   ]
  },
  {
   "cell_type": "markdown",
   "id": "fc14b507",
   "metadata": {},
   "source": [
    "* Confusion Matrix"
   ]
  },
  {
   "cell_type": "code",
   "execution_count": 32,
   "id": "032510de",
   "metadata": {},
   "outputs": [
    {
     "data": {
      "text/plain": [
       "array([[31,  1,  0],\n",
       "       [ 0, 10,  0],\n",
       "       [ 0,  0, 24]])"
      ]
     },
     "execution_count": 32,
     "metadata": {},
     "output_type": "execute_result"
    }
   ],
   "source": [
    "RF.fit(X_train,y_train) # fit the model on training set\n",
    "y_test_pred=RF.predict(X_test) # make prediction on the testing set\n",
    "RFc=confusion_matrix(y_test,y_test_pred) # generate confusion matrix\n",
    "RFc"
   ]
  },
  {
   "cell_type": "code",
   "execution_count": 33,
   "id": "48b3b1fa",
   "metadata": {},
   "outputs": [
    {
     "data": {
      "image/png": "[encoded data removed]",
      "text/plain": [
       "<Figure size 432x432 with 2 Axes>"
      ]
     },
     "metadata": {
      "needs_background": "light"
     },
     "output_type": "display_data"
    }
   ],
   "source": [
    "x_axis_labels = ['Adelie', 'Chinstrap', 'Gentoo'] # labels for x-axis\n",
    "y_axis_labels = ['Adelie', 'Chinstrap', 'Gentoo'] # labels for y-axis\n",
    "\n",
    "# make a heatmap for confusion matrix\n",
    "plt.figure(figsize=(6,6))\n",
    "sns.heatmap(RFc, annot = True, fmt='d', linewidths=.5,square=True, \n",
    "            xticklabels=x_axis_labels, yticklabels=y_axis_labels)\n",
    "plt.ylabel(\"True\")\n",
    "plt.xlabel(\"Predict\")\n",
    "plt.show()"
   ]
  },
  {
   "cell_type": "markdown",
   "id": "2cb520d1",
   "metadata": {},
   "source": [
    "We observe from the non-zero numbers on the diagonal that the model is almost correct in classifying penguin data except one incorrect prediction. We are looking for positive entries on the diagonal and 0's on off-diagonal, and our model classified an Adelie penguin as Chinstrap. Due to this error, our model accuracy was 98.48% on the testing data, which means it makes correct prediction 98.48% of the time. As mentioned above, the model can have some struggle when classifying Chinstrap and Gentoo. But overall, the model still really good.\n",
    "\n",
    "Because random forest model uses many decision trees and vote to predict the best outcome, this good performance is reasonable since we have 18 decision trees in our best parameter."
   ]
  },
  {
   "cell_type": "markdown",
   "id": "bb2706bb",
   "metadata": {},
   "source": [
    "## Decision Regions "
   ]
  },
  {
   "cell_type": "code",
   "execution_count": 34,
   "id": "d43742d1",
   "metadata": {},
   "outputs": [
    {
     "data": {
      "image/png": "[encoded data removed]",
      "text/plain": [
       "<Figure size 864x360 with 2 Axes>"
      ]
     },
     "metadata": {
      "needs_background": "light"
     },
     "output_type": "display_data"
    }
   ],
   "source": [
    "plot_regions(RF, X_train, y_train)"
   ]
  },
  {
   "cell_type": "markdown",
   "id": "8b3626f9",
   "metadata": {},
   "source": [
    "We can see that the decision region is pretty accurate in drawing borders of species and the border lines are almost linear without too many weird zigzags or curves."
   ]
  },
  {
   "cell_type": "markdown",
   "id": "44de959f",
   "metadata": {},
   "source": [
    "Mistakes Made By Model: All penguins were correctly classified except for one female Adelie penguin being labeled as Chinstrap. We can also see that one of the male Gentoo penguin almost fall into the Chinstrap region. This is reasonable since Adelie and Chinstrap have similar culmen depth, and Chinstrap and Gentoo have similar culmen length, so we can have some error or borderline cases. This i. Otherwise, the decision regions classify most of the data points correctly."
   ]
  },
  {
   "cell_type": "markdown",
   "id": "b5aecfd9",
   "metadata": {},
   "source": [
    "# Third Model: Support Vector Machine Classifier"
   ]
  },
  {
   "cell_type": "markdown",
   "id": "19ac25c8",
   "metadata": {},
   "source": [
    "## Cross Validation"
   ]
  },
  {
   "cell_type": "code",
   "execution_count": 36,
   "id": "3a311091",
   "metadata": {},
   "outputs": [
    {
     "name": "stdout",
     "output_type": "stream",
     "text": [
      "1.0\n",
      "0.9805429864253394\n"
     ]
    }
   ],
   "source": [
    "from sklearn import svm\n",
    "\n",
    "\n",
    "score = np.zeros(100) # do 100 iterations to find the best parameter for SVM\n",
    "bestS = 0 # initialize score low\n",
    "bestD = 0\n",
    "# we will use a linear kernel for a linear boundary in the decision regions\n",
    "for i in range(1,101):\n",
    "    SVM = svm.SVC(gamma = i,kernel = 'linear') # model of each level of complexity \n",
    "    score[i-1] = cross_val_score(SVM,X_train,y_train).mean() # take the mean of the validation scores for each model\n",
    "    if score[i-1]>bestS: # update best score if current score is better than the current best\n",
    "        bestD = 1/i # update best complexity parameter, gamma\n",
    "        bestS = score[i-1]\n",
    "        \n",
    "print(bestD)\n",
    "print(bestS) "
   ]
  },
  {
   "cell_type": "markdown",
   "id": "536468f5",
   "metadata": {},
   "source": [
    "We see that a complexity parameter of gamma = 1 produces the best score of 0.9805 on the training data. Since we did 100 iterations to find this parameter, there's strong evidence that this is the best parameter."
   ]
  },
  {
   "cell_type": "markdown",
   "id": "3ce48858",
   "metadata": {},
   "source": [
    "## Evaluation on Unseen Data"
   ]
  },
  {
   "cell_type": "markdown",
   "id": "21203d08",
   "metadata": {},
   "source": [
    "### SVM score"
   ]
  },
  {
   "cell_type": "code",
   "execution_count": 37,
   "id": "3ba00287",
   "metadata": {},
   "outputs": [
    {
     "data": {
      "text/plain": [
       "1.0"
      ]
     },
     "execution_count": 37,
     "metadata": {},
     "output_type": "execute_result"
    }
   ],
   "source": [
    "SVM = svm.SVC(gamma = 1,kernel = 'linear') # initialize a model using the best parameter\n",
    "SVM.fit(X_train, y_train) # fit on the training data\n",
    "SVM.score(X_test, y_test) # score on the testing data"
   ]
  },
  {
   "cell_type": "markdown",
   "id": "1fd10e8b-b721-4d57-a3d2-c715fd327cea",
   "metadata": {},
   "source": [
    "When scoring on the testing set, the model reaches a 100% accuracy. Since the training score is already high enough, this performance is understandable. Since this gap is within a reasonable range (only about 2% higher than the training score), we can trust the model performs well."
   ]
  },
  {
   "cell_type": "markdown",
   "id": "7d6b3bf0",
   "metadata": {},
   "source": [
    "### Confusion Matrix"
   ]
  },
  {
   "cell_type": "code",
   "execution_count": 140,
   "id": "791cf5ce",
   "metadata": {},
   "outputs": [
    {
     "data": {
      "text/plain": [
       "array([[32,  0,  0],\n",
       "       [ 0, 10,  0],\n",
       "       [ 0,  0, 24]])"
      ]
     },
     "execution_count": 140,
     "metadata": {},
     "output_type": "execute_result"
    }
   ],
   "source": [
    "y_test_pred=SVM.predict(X_test) # make prediction on the testing data\n",
    "SVM_conf_matrix = confusion_matrix(y_test,y_test_pred) # generate confusion matrix\n",
    "SVM_conf_matrix"
   ]
  },
  {
   "cell_type": "code",
   "execution_count": 141,
   "id": "3e41d14a",
   "metadata": {},
   "outputs": [
    {
     "data": {
      "image/png": "[encoded data removed]",
      "text/plain": [
       "<Figure size 432x432 with 2 Axes>"
      ]
     },
     "metadata": {
      "needs_background": "light"
     },
     "output_type": "display_data"
    }
   ],
   "source": [
    "x_axis_labels = ['Adelie', 'Chinstrap', 'Gentoo'] # labels for x-axis\n",
    "y_axis_labels = ['Adelie', 'Chinstrap', 'Gentoo'] # labels for y-axis\n",
    "\n",
    "plt.figure(figsize=(6,6))\n",
    "sns.heatmap(SVM_conf_matrix, annot = True, fmt='d', linewidths=.5,square=True, \n",
    "            xticklabels=x_axis_labels, yticklabels=y_axis_labels)\n",
    "plt.ylabel(\"True\")\n",
    "plt.xlabel(\"Predict\")\n",
    "plt.show()"
   ]
  },
  {
   "cell_type": "markdown",
   "id": "af6cdd03",
   "metadata": {},
   "source": [
    "We observe from the non-zero numbers on the diagonal entries that the model predicts all of the data correctly. As mentioned earlier, Adelie and Chinstrap have similar culmen length, and Chinstrap and Gentoo have similar culmen depth. From previous decision regions, we have also seen some of the data points were on the borderline of the decision regions. However, the model didn't make any mistakes, so we can believe SVM is a good model. Let's validate that with decision regions."
   ]
  },
  {
   "cell_type": "markdown",
   "id": "278b65c8-b18a-4111-8128-bf576141697a",
   "metadata": {},
   "source": [
    "## Decision Regions "
   ]
  },
  {
   "cell_type": "code",
   "execution_count": 142,
   "id": "880ede2c",
   "metadata": {},
   "outputs": [
    {
     "data": {
      "image/png": "[encoded data removed]",
      "text/plain": [
       "<Figure size 864x360 with 2 Axes>"
      ]
     },
     "metadata": {
      "needs_background": "light"
     },
     "output_type": "display_data"
    }
   ],
   "source": [
    "plot_regions(SVM, X_train, y_train)"
   ]
  },
  {
   "cell_type": "markdown",
   "id": "5d43cc0b-f5ae-4b16-9e0d-e580db7c3dc4",
   "metadata": {},
   "source": [
    "Mistakes Made By Model:  All penguins were correctly classified, so we will discuss some potential weaknesses. 2 data points are lying on the boundary. We can see a female Chinstrap on the border of being classified as an Adelie, and a male Adelie on the border of Chinstrap. A couple other penguins are also close to the boundaries of the decision regions, so this reflects the model can have some vague predicitions on borderline cases despite the confusion matrix is correct. The borderlines also roughly forms a tree branch, so we can trust the model works well.\n",
    "\n",
    "The reason why SVM performs well is that it tries to draw straight lines that can separate the clusters as much as possible, and it works well with linear data. Since we observed a linear relationship between culmen length and depth of penguin species, and each species forms a clear cluster, it's no surprise that SVM works well."
   ]
  },
  {
   "cell_type": "markdown",
   "id": "32508c93-2bf2-49a4-9e82-0b7a76b1ce4f",
   "metadata": {},
   "source": [
    "# Discussion"
   ]
  },
  {
   "cell_type": "markdown",
   "id": "9bd28f30-1b7c-457d-baf5-caf56ca0ba98",
   "metadata": {},
   "source": [
    "Analysis of Models: We used three types of models (Logistic Regression, Random Forest Classifier, and Support Vector Machines) to test how well the features of Culmen Length, Culmen Depth and Sex can predict a penguin species. We used systematic feature selection of all combinations of one qualitiative feature and two quantitative features to select these three attributes that scored the highest. When producing decision regions, we chose to use the training data because it makes overfitting easier to evaluate and visualize in addition to the test scores. The Logistic Regression and Support Vector Machines Model (SVM) performed the best with accuracies of 100%, while the Random Forest Classifier model performed at 98.48% accuracy. Perhaps the Random Forest Classifier model may have been overfitted, since it has more borderline data points in the decision region. \n",
    "\n",
    "Recommendation: We recommend using the Logistic Regression or SVM models using the Culmen Length, Culmen Depth and Sex features. The logistic regression draws the clearest decision region boundary, so it gives a higher clarity in classification. Random Forest Classifier is still a strong candidate because it uses many decision trees to vote on the best parameters, but its performance is slightly worse. \n",
    "\n",
    "Improvements: Sex, Culmen Length, and Culmen depth are the best predictors in the dataset we are given, suggesting that the biological aspects of the penguin are the best predictors of species. Perhaps there are biological characteristics and measurements that are even BETTER predictors of species that are not present in this data set. It would be useful to have access to even more biological data about the penguins, describing their behavioral patterns or physical attributes. Because length and depth can be similar for two species, having access to these data help us make better feature selections and produce more accurate predictions.\n",
    "\n",
    "Having a larger sample size in the dataset would also lead to more accurate results. With more data, the models can derive more accurate results because there is more data to train and test with.  \n",
    "\n",
    "From the confusion matrices of our models, we can see that they all made perfect predictions. Therefore, in the \"mistakes of our model\" section, we discussed the potential issues they can have, including some borderline data that they almost failed to classify correctly.\n",
    "\n",
    "We are using training data when plotting decision regions to better assess overfitting and mistakes of the model."
   ]
  },
  {
   "cell_type": "code",
   "execution_count": null,
   "id": "79172670",
   "metadata": {},
   "outputs": [],
   "source": []
  }
 ],
 "metadata": {
  "kernelspec": {
   "display_name": "Python 3 (ipykernel)",
   "language": "python",
   "name": "python3"
  },
  "language_info": {
   "codemirror_mode": {
    "name": "ipython",
    "version": 3
   },
   "file_extension": ".py",
   "mimetype": "text/x-python",
   "name": "python",
   "nbconvert_exporter": "python",
   "pygments_lexer": "ipython3",
   "version": "3.9.13"
  }
 },
 "nbformat": 4,
 "nbformat_minor": 5
}
